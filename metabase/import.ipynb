{
 "cells": [
  {
   "cell_type": "code",
   "execution_count": 44,
   "metadata": {},
   "outputs": [],
   "source": [
    "import requests\n",
    "import pandas"
   ]
  },
  {
   "cell_type": "code",
   "execution_count": 45,
   "metadata": {},
   "outputs": [],
   "source": [
    "url = 'http://13.234.29.137:3000/api'\n",
    "response = requests.post('http://13.234.29.137:3000/api/session', json={\n",
    "    'username' : 'aayush1.sharma@intel.com',\n",
    "    'password' : 'test123&&'\n",
    "})\n",
    "session_id = response.json()['id']"
   ]
  },
  {
   "cell_type": "code",
   "execution_count": 46,
   "metadata": {},
   "outputs": [
    {
     "data": {
      "text/plain": [
       "'39189050-2ce5-4a05-b0af-d6a7857fd001'"
      ]
     },
     "execution_count": 46,
     "metadata": {},
     "output_type": "execute_result"
    }
   ],
   "source": [
    "headers = {'X-Metabase-Session' : session_id}\n",
    "session_id"
   ]
  },
  {
   "cell_type": "code",
   "execution_count": 47,
   "metadata": {},
   "outputs": [
    {
     "data": {
      "text/plain": [
       "[{'authority_level': None,\n",
       "  'name': 'Our analytics',\n",
       "  'id': 'root',\n",
       "  'parent_id': None,\n",
       "  'effective_location': None,\n",
       "  'effective_ancestors': [],\n",
       "  'can_write': True},\n",
       " {'authority_level': None,\n",
       "  'description': None,\n",
       "  'archived': False,\n",
       "  'slug': 'collection_1',\n",
       "  'color': '#FF0000',\n",
       "  'can_write': True,\n",
       "  'name': 'Collection 1',\n",
       "  'personal_owner_id': None,\n",
       "  'id': 2,\n",
       "  'entity_id': 'iZPOoV36qcjVaxqliP5mD',\n",
       "  'location': '/',\n",
       "  'namespace': None},\n",
       " {'authority_level': None,\n",
       "  'description': None,\n",
       "  'archived': False,\n",
       "  'slug': 'collection_2',\n",
       "  'color': '#FF0000',\n",
       "  'can_write': True,\n",
       "  'name': 'Collection 2',\n",
       "  'personal_owner_id': None,\n",
       "  'id': 3,\n",
       "  'entity_id': '84WropWKwAZlvVKf5m1tY',\n",
       "  'location': '/',\n",
       "  'namespace': None},\n",
       " {'authority_level': None,\n",
       "  'description': None,\n",
       "  'archived': False,\n",
       "  'slug': 'krishna_shedbalkar_s_personal_collection',\n",
       "  'color': '#31698A',\n",
       "  'can_write': True,\n",
       "  'name': \"Krishna Shedbalkar's Personal Collection\",\n",
       "  'personal_owner_id': 1,\n",
       "  'id': 1,\n",
       "  'entity_id': 'kEmHhLA-4m5eX7OQtRv_3',\n",
       "  'location': '/',\n",
       "  'namespace': None}]"
      ]
     },
     "execution_count": 47,
     "metadata": {},
     "output_type": "execute_result"
    }
   ],
   "source": [
    "import json\n",
    "with open('export_dump.json', \"r\") as fp:\n",
    "    jsonobj = json.load(fp)\n",
    "jsonobj['sourceCollections']"
   ]
  },
  {
   "cell_type": "code",
   "execution_count": 48,
   "metadata": {},
   "outputs": [],
   "source": [
    "# for i in jsonobj['sourceCollections']:\n",
    "#     response = requests.post(f\"{url}/collection\",json=i, headers=headers)\n",
    "# response.json()"
   ]
  },
  {
   "cell_type": "code",
   "execution_count": 49,
   "metadata": {},
   "outputs": [],
   "source": [
    "# for i in jsonobj['sourceDashboards']:\n",
    "#     response = requests.post(f\"{url}/dashboard\",json=i, headers=headers)\n",
    "# response.json()"
   ]
  },
  {
   "cell_type": "code",
   "execution_count": 54,
   "metadata": {},
   "outputs": [
    {
     "data": {
      "text/plain": [
       "{'errors': {'visualization_settings': 'value must be a map.'}}"
      ]
     },
     "execution_count": 54,
     "metadata": {},
     "output_type": "execute_result"
    }
   ],
   "source": [
    "for i in jsonobj['sourceCards']:\n",
    "    response = requests.post(f\"{url}/card\",i, headers=headers)\n",
    "response.json()"
   ]
  },
  {
   "cell_type": "code",
   "execution_count": 60,
   "metadata": {},
   "outputs": [
    {
     "data": {
      "text/plain": [
       "<Response [200]>"
      ]
     },
     "execution_count": 60,
     "metadata": {},
     "output_type": "execute_result"
    }
   ],
   "source": [
    "for i in jsonobj['sourceDashboardCards']:\n",
    "    for j in i['ordered_cards']:\n",
    "        j\n",
    "        response = requests.post(f\"{url}/dashboard/{j['dashboard_id']}/cards\", json=j, headers=headers)\n",
    "response"
   ]
  },
  {
   "cell_type": "code",
   "execution_count": 61,
   "metadata": {},
   "outputs": [
    {
     "data": {
      "text/plain": [
       "{'sizeX': 4,\n",
       " 'series': [],\n",
       " 'updated_at': '2022-12-07T11:31:28.772',\n",
       " 'col': 0,\n",
       " 'id': 4,\n",
       " 'parameter_mappings': [],\n",
       " 'card_id': None,\n",
       " 'entity_id': 'T3i9eFfc4GlRxI8eI_Df1',\n",
       " 'visualization_settings': {},\n",
       " 'dashboard_id': 2,\n",
       " 'created_at': '2022-12-07T11:31:28.772',\n",
       " 'sizeY': 4,\n",
       " 'row': 0}"
      ]
     },
     "execution_count": 61,
     "metadata": {},
     "output_type": "execute_result"
    }
   ],
   "source": [
    "response.json()"
   ]
  },
  {
   "cell_type": "code",
   "execution_count": null,
   "metadata": {},
   "outputs": [],
   "source": []
  }
 ],
 "metadata": {
  "kernelspec": {
   "display_name": "Python 3.10.8 64-bit (microsoft store)",
   "language": "python",
   "name": "python3"
  },
  "language_info": {
   "codemirror_mode": {
    "name": "ipython",
    "version": 3
   },
   "file_extension": ".py",
   "mimetype": "text/x-python",
   "name": "python",
   "nbconvert_exporter": "python",
   "pygments_lexer": "ipython3",
   "version": "3.10.8"
  },
  "orig_nbformat": 4,
  "vscode": {
   "interpreter": {
    "hash": "025742e4fea1f80eabc48352befee2df3213fa4d7c948a9c1d4cd86fe77e15f9"
   }
  }
 },
 "nbformat": 4,
 "nbformat_minor": 2
}
