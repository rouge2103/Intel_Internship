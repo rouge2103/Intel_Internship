{
 "cells": [
  {
   "cell_type": "code",
   "execution_count": 2,
   "metadata": {},
   "outputs": [
    {
     "name": "stdout",
     "output_type": "stream",
     "text": [
      "Requirement already satisfied: minio in c:\\users\\aayushs2\\appdata\\local\\packages\\pythonsoftwarefoundation.python.3.10_qbz5n2kfra8p0\\localcache\\local-packages\\python310\\site-packages (7.1.12)\n",
      "Requirement already satisfied: certifi in c:\\users\\aayushs2\\appdata\\local\\packages\\pythonsoftwarefoundation.python.3.10_qbz5n2kfra8p0\\localcache\\local-packages\\python310\\site-packages (from minio) (2022.9.24)\n",
      "Requirement already satisfied: urllib3 in c:\\users\\aayushs2\\appdata\\local\\packages\\pythonsoftwarefoundation.python.3.10_qbz5n2kfra8p0\\localcache\\local-packages\\python310\\site-packages (from minio) (1.26.13)\n"
     ]
    },
    {
     "name": "stderr",
     "output_type": "stream",
     "text": [
      "\n",
      "[notice] A new release of pip available: 22.2.2 -> 22.3.1\n",
      "[notice] To update, run: C:\\Users\\aayushs2\\AppData\\Local\\Microsoft\\WindowsApps\\PythonSoftwareFoundation.Python.3.10_qbz5n2kfra8p0\\python.exe -m pip install --upgrade pip\n"
     ]
    }
   ],
   "source": [
    "import sys\n",
    "!{sys.executable} -m pip install minio"
   ]
  },
  {
   "cell_type": "code",
   "execution_count": 3,
   "metadata": {},
   "outputs": [
    {
     "name": "stdout",
     "output_type": "stream",
     "text": [
      "Requirement already satisfied: flask in c:\\users\\aayushs2\\appdata\\local\\packages\\pythonsoftwarefoundation.python.3.10_qbz5n2kfra8p0\\localcache\\local-packages\\python310\\site-packages (2.2.2)\n",
      "Requirement already satisfied: itsdangerous>=2.0 in c:\\users\\aayushs2\\appdata\\local\\packages\\pythonsoftwarefoundation.python.3.10_qbz5n2kfra8p0\\localcache\\local-packages\\python310\\site-packages (from flask) (2.1.2)\n",
      "Requirement already satisfied: click>=8.0 in c:\\users\\aayushs2\\appdata\\local\\packages\\pythonsoftwarefoundation.python.3.10_qbz5n2kfra8p0\\localcache\\local-packages\\python310\\site-packages (from flask) (8.1.3)\n",
      "Requirement already satisfied: Werkzeug>=2.2.2 in c:\\users\\aayushs2\\appdata\\local\\packages\\pythonsoftwarefoundation.python.3.10_qbz5n2kfra8p0\\localcache\\local-packages\\python310\\site-packages (from flask) (2.2.2)\n",
      "Requirement already satisfied: Jinja2>=3.0 in c:\\users\\aayushs2\\appdata\\local\\packages\\pythonsoftwarefoundation.python.3.10_qbz5n2kfra8p0\\localcache\\local-packages\\python310\\site-packages (from flask) (3.1.2)\n",
      "Requirement already satisfied: colorama in c:\\users\\aayushs2\\appdata\\local\\packages\\pythonsoftwarefoundation.python.3.10_qbz5n2kfra8p0\\localcache\\local-packages\\python310\\site-packages (from click>=8.0->flask) (0.4.6)\n",
      "Requirement already satisfied: MarkupSafe>=2.0 in c:\\users\\aayushs2\\appdata\\local\\packages\\pythonsoftwarefoundation.python.3.10_qbz5n2kfra8p0\\localcache\\local-packages\\python310\\site-packages (from Jinja2>=3.0->flask) (2.1.1)\n"
     ]
    },
    {
     "name": "stderr",
     "output_type": "stream",
     "text": [
      "\n",
      "[notice] A new release of pip available: 22.2.2 -> 22.3.1\n",
      "[notice] To update, run: C:\\Users\\aayushs2\\AppData\\Local\\Microsoft\\WindowsApps\\PythonSoftwareFoundation.Python.3.10_qbz5n2kfra8p0\\python.exe -m pip install --upgrade pip\n"
     ]
    }
   ],
   "source": [
    "!{sys.executable} -m pip install flask"
   ]
  },
  {
   "cell_type": "code",
   "execution_count": 4,
   "metadata": {},
   "outputs": [
    {
     "name": "stdout",
     "output_type": "stream",
     "text": [
      "Requirement already satisfied: python-dotenv in c:\\users\\aayushs2\\appdata\\local\\packages\\pythonsoftwarefoundation.python.3.10_qbz5n2kfra8p0\\localcache\\local-packages\\python310\\site-packages (0.21.0)\n"
     ]
    },
    {
     "name": "stderr",
     "output_type": "stream",
     "text": [
      "\n",
      "[notice] A new release of pip available: 22.2.2 -> 22.3.1\n",
      "[notice] To update, run: C:\\Users\\aayushs2\\AppData\\Local\\Microsoft\\WindowsApps\\PythonSoftwareFoundation.Python.3.10_qbz5n2kfra8p0\\python.exe -m pip install --upgrade pip\n"
     ]
    }
   ],
   "source": [
    "!{sys.executable} -m pip install python-dotenv"
   ]
  },
  {
   "cell_type": "code",
   "execution_count": 5,
   "metadata": {},
   "outputs": [],
   "source": [
    "import os\n",
    "from datetime import datetime\n",
    "from minio import Minio\n",
    "from dotenv import load_dotenv"
   ]
  },
  {
   "cell_type": "code",
   "execution_count": 6,
   "metadata": {},
   "outputs": [],
   "source": [
    "load_dotenv()\n",
    "ACCESS_KEY = os.environ.get('ACCESS_KEY')\n",
    "SECRET_KEY = os.environ.get('SECRET_KEY')\n",
    "BUCKET_NAME = os.environ.get('BUCKET_NAME')\n",
    "minIO_host = \"ec2-65-0-177-178.ap-south-1.compute.amazonaws.com:9000\"\n",
    "minIO_client = Minio(minIO_host, access_key=ACCESS_KEY, secret_key=SECRET_KEY, secure=False)"
   ]
  },
  {
   "cell_type": "code",
   "execution_count": 7,
   "metadata": {},
   "outputs": [
    {
     "name": "stdout",
     "output_type": "stream",
     "text": [
      "source exists\n",
      "processed exists\n"
     ]
    }
   ],
   "source": [
    "# checking and making buckets if it doesn't exits\n",
    "for i in [\"source\", \"processed\"]:\n",
    "    if minIO_client.bucket_exists(i):\n",
    "        print(f\"{i} exists\")\n",
    "    else:\n",
    "        print(f\"making bucket {i}\")\n",
    "        minIO_client.make_bucket(i)"
   ]
  },
  {
   "cell_type": "code",
   "execution_count": 8,
   "metadata": {},
   "outputs": [
    {
     "name": "stdout",
     "output_type": "stream",
     "text": [
      "data\n",
      "processed\n",
      "source\n"
     ]
    }
   ],
   "source": [
    "# listing all the buckets\n",
    "for bucket in minIO_client.list_buckets():\n",
    "    print(bucket.name)"
   ]
  },
  {
   "cell_type": "code",
   "execution_count": 9,
   "metadata": {},
   "outputs": [
    {
     "name": "stdout",
     "output_type": "stream",
     "text": [
      "processed/data-marts/README.md\n",
      "processed/feature-stores/README.md\n",
      "processed/raw/README.md\n",
      "processed/summaries/README.md\n",
      "source/tpcds/README.md\n",
      "source/tpcds/store_sales_1669852035.377949.csv.gz\n",
      "source/tpcds/store_sales_1669853423.776755.csv.gz\n",
      "source/tpcds/store_sales_1669912850.295695.csv.gz\n",
      "source/tpcds/store_sales_1669978104.35895.csv.gz\n",
      "source/tpcds/store_sales_1669978544.322109.csv.gz\n",
      "source/tpcds/store_sales_1669979211.421977.csv.gz\n",
      "source/tpcds/store_sales_1669993596.592191.csv.gz\n",
      "source/tpcds/store_sales_1669993917.438838.csv.gz\n",
      "source/tpcds/store_sales_1669994452.711803.csv.gz\n",
      "source/tpcds/store_sales_1669994517.341453.csv.gz\n"
     ]
    }
   ],
   "source": [
    "# list all objects in a bucket\n",
    "for i in minIO_client.list_objects('data', recursive=True):\n",
    "    print(i.object_name)"
   ]
  },
  {
   "cell_type": "code",
   "execution_count": 10,
   "metadata": {},
   "outputs": [
    {
     "name": "stdout",
     "output_type": "stream",
     "text": [
      "tpcds/store_sales_1669653618.908919.csv.gz 90b68718e038258d5b6c2664c35a3ad3 None\n"
     ]
    }
   ],
   "source": [
    "# upload data with metadata\n",
    "result = minIO_client.fput_object(\n",
    "    \"source\", \"tpcds/store_sales_1669653618.908919.csv.gz\", \"/home/aayush/bpcl/store_sales_1669653618.908919.csv.gz\",\n",
    "    metadata={\"table\" : \"store_sales\", \"datetime\" : datetime.now(), \"source\" : \"tpcds\", \"job_type\" : \"python_store_sales_extract\"}\n",
    ")\n",
    "print(f\"{result.object_name} {result.etag} {result.version_id}\")"
   ]
  },
  {
   "cell_type": "code",
   "execution_count": 11,
   "metadata": {},
   "outputs": [],
   "source": [
    "# tagging objects\n",
    "from minio.commonconfig import Tags\n",
    "tags = Tags.new_bucket_tags()\n",
    "tags[\"table\"] = \"store_sales\"\n",
    "tags[\"datetime\"] = str(datetime.now())\n",
    "tags[\"source\"] = \"tpcds\"\n",
    "minIO_client.set_object_tags(\"source\", \"tpcds/store_sales_1669653618.908919.csv.gz\", tags)"
   ]
  },
  {
   "cell_type": "code",
   "execution_count": 50,
   "metadata": {},
   "outputs": [
    {
     "name": "stdout",
     "output_type": "stream",
     "text": [
      "<class 'str'>\n",
      "{}\n",
      "[]\n"
     ]
    }
   ],
   "source": [
    "# listing object\n",
    "object = minIO_client.list_objects(\"source\", recursive=True)\n",
    "for obj in object:\n",
    "    print(type(obj.object_name))\n",
    "    print(obj.metadata)\n",
    "    print(list(obj.metadata.keys()))"
   ]
  },
  {
   "cell_type": "code",
   "execution_count": 51,
   "metadata": {},
   "outputs": [
    {
     "name": "stdout",
     "output_type": "stream",
     "text": [
      "<class 'str'>\n",
      "{'X-Amz-Meta-Table': 'store_sales', 'X-Amz-Meta-Job_type': 'python_store_sales_extract', 'X-Amz-Meta-Datetime': '2022-12-02 21:29:57.729817', 'X-Amz-Meta-Source': 'tpcds', 'content-type': 'application/octet-stream'}\n",
      "['X-Amz-Meta-Table', 'X-Amz-Meta-Job_type', 'X-Amz-Meta-Datetime', 'X-Amz-Meta-Source', 'content-type']\n"
     ]
    }
   ],
   "source": [
    "# listing with metadata\n",
    "object = minIO_client.list_objects(\"source\", include_user_meta=True, recursive=True)\n",
    "for obj in object:\n",
    "    print(type(obj.object_name))\n",
    "    print(obj.metadata)\n",
    "    print(list(obj.metadata.keys()))"
   ]
  },
  {
   "cell_type": "code",
   "execution_count": 53,
   "metadata": {},
   "outputs": [
    {
     "name": "stdout",
     "output_type": "stream",
     "text": [
      "{'source': 'tpcds', 'table': 'store_sales', 'datetime': '2022-12-02 21:29:58.090984'}\n"
     ]
    }
   ],
   "source": [
    "# getting tags\n",
    "objects = minIO_client.list_objects(\"source\", recursive=True)\n",
    "for i in objects:\n",
    "    tagss = minIO_client.get_object_tags(\"source\", i.object_name)\n",
    "    print(tagss)"
   ]
  },
  {
   "cell_type": "code",
   "execution_count": 54,
   "metadata": {},
   "outputs": [
    {
     "name": "stdout",
     "output_type": "stream",
     "text": [
      "tpcds/store_sales_1669653618.908919.csv.gz\n"
     ]
    }
   ],
   "source": [
    "# filtering using tags\n",
    "objects = minIO_client.list_objects(\"source\", recursive=True)\n",
    "for i in objects:\n",
    "    tagss = minIO_client.get_object_tags(\"source\", i.object_name)\n",
    "    if 'tpcds' in list(tagss.values()):\n",
    "        print(obj.object_name)"
   ]
  },
  {
   "cell_type": "code",
   "execution_count": null,
   "metadata": {},
   "outputs": [],
   "source": []
  }
 ],
 "metadata": {
  "kernelspec": {
   "display_name": "Python 3.10.8 64-bit (microsoft store)",
   "language": "python",
   "name": "python3"
  },
  "language_info": {
   "codemirror_mode": {
    "name": "ipython",
    "version": 3
   },
   "file_extension": ".py",
   "mimetype": "text/x-python",
   "name": "python",
   "nbconvert_exporter": "python",
   "pygments_lexer": "ipython3",
   "version": "3.10.8"
  },
  "orig_nbformat": 4,
  "vscode": {
   "interpreter": {
    "hash": "e0acaf148705ed9ed86cc5cad12259d7985e30670e5686e5f55604a9b3b84a55"
   }
  }
 },
 "nbformat": 4,
 "nbformat_minor": 2
}
